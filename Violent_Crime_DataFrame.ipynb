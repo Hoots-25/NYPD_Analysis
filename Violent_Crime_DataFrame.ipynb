{
 "cells": [
  {
   "cell_type": "code",
   "execution_count": 10,
   "id": "70298a35",
   "metadata": {},
   "outputs": [
    {
     "data": {
      "text/html": [
       "<div>\n",
       "<style scoped>\n",
       "    .dataframe tbody tr th:only-of-type {\n",
       "        vertical-align: middle;\n",
       "    }\n",
       "\n",
       "    .dataframe tbody tr th {\n",
       "        vertical-align: top;\n",
       "    }\n",
       "\n",
       "    .dataframe thead th {\n",
       "        text-align: right;\n",
       "    }\n",
       "</style>\n",
       "<table border=\"1\" class=\"dataframe\">\n",
       "  <thead>\n",
       "    <tr style=\"text-align: right;\">\n",
       "      <th></th>\n",
       "      <th>CMPLNT_NUM</th>\n",
       "      <th>ADDR_PCT_CD</th>\n",
       "      <th>BORO_NM</th>\n",
       "      <th>CMPLNT_FR_DT</th>\n",
       "      <th>CMPLNT_FR_TM</th>\n",
       "      <th>CMPLNT_TO_DT</th>\n",
       "      <th>CMPLNT_TO_TM</th>\n",
       "      <th>CRM_ATPT_CPTD_CD</th>\n",
       "      <th>HADEVELOPT</th>\n",
       "      <th>HOUSING_PSA</th>\n",
       "      <th>...</th>\n",
       "      <th>TRANSIT_DISTRICT</th>\n",
       "      <th>VIC_AGE_GROUP</th>\n",
       "      <th>VIC_RACE</th>\n",
       "      <th>VIC_SEX</th>\n",
       "      <th>X_COORD_CD</th>\n",
       "      <th>Y_COORD_CD</th>\n",
       "      <th>Latitude</th>\n",
       "      <th>Longitude</th>\n",
       "      <th>Lat_Lon</th>\n",
       "      <th>New Georeferenced Column</th>\n",
       "    </tr>\n",
       "  </thead>\n",
       "  <tbody>\n",
       "    <tr>\n",
       "      <th>0</th>\n",
       "      <td>854455675</td>\n",
       "      <td>48</td>\n",
       "      <td>NaN</td>\n",
       "      <td>09/29/2021</td>\n",
       "      <td>12:50:00</td>\n",
       "      <td>NaN</td>\n",
       "      <td>NaN</td>\n",
       "      <td>COMPLETED</td>\n",
       "      <td>NaN</td>\n",
       "      <td>NaN</td>\n",
       "      <td>...</td>\n",
       "      <td>NaN</td>\n",
       "      <td>&lt;18</td>\n",
       "      <td>BLACK HISPANIC</td>\n",
       "      <td>M</td>\n",
       "      <td>1016838</td>\n",
       "      <td>250252</td>\n",
       "      <td>40.853507</td>\n",
       "      <td>-73.882203</td>\n",
       "      <td>(40.85350696200004, -73.88220309599996)</td>\n",
       "      <td>POINT (-73.88220309599996 40.85350696200004)</td>\n",
       "    </tr>\n",
       "    <tr>\n",
       "      <th>1</th>\n",
       "      <td>474078722</td>\n",
       "      <td>79</td>\n",
       "      <td>NaN</td>\n",
       "      <td>09/16/2021</td>\n",
       "      <td>05:15:00</td>\n",
       "      <td>NaN</td>\n",
       "      <td>NaN</td>\n",
       "      <td>COMPLETED</td>\n",
       "      <td>NaN</td>\n",
       "      <td>NaN</td>\n",
       "      <td>...</td>\n",
       "      <td>NaN</td>\n",
       "      <td>25-44</td>\n",
       "      <td>BLACK</td>\n",
       "      <td>M</td>\n",
       "      <td>1001523</td>\n",
       "      <td>192971</td>\n",
       "      <td>40.696329</td>\n",
       "      <td>-73.937711</td>\n",
       "      <td>(40.696328949000076, -73.93771061299998)</td>\n",
       "      <td>POINT (-73.93771061299998 40.696328949000076)</td>\n",
       "    </tr>\n",
       "    <tr>\n",
       "      <th>2</th>\n",
       "      <td>843162354</td>\n",
       "      <td>25</td>\n",
       "      <td>NaN</td>\n",
       "      <td>09/15/2021</td>\n",
       "      <td>01:13:00</td>\n",
       "      <td>NaN</td>\n",
       "      <td>NaN</td>\n",
       "      <td>COMPLETED</td>\n",
       "      <td>NaN</td>\n",
       "      <td>NaN</td>\n",
       "      <td>...</td>\n",
       "      <td>NaN</td>\n",
       "      <td>25-44</td>\n",
       "      <td>BLACK</td>\n",
       "      <td>M</td>\n",
       "      <td>1001508</td>\n",
       "      <td>232696</td>\n",
       "      <td>40.805364</td>\n",
       "      <td>-73.937663</td>\n",
       "      <td>(40.80536404400005, -73.93766276299993)</td>\n",
       "      <td>POINT (-73.93766276299993 40.80536404400005)</td>\n",
       "    </tr>\n",
       "    <tr>\n",
       "      <th>3</th>\n",
       "      <td>275119984</td>\n",
       "      <td>47</td>\n",
       "      <td>NaN</td>\n",
       "      <td>09/07/2021</td>\n",
       "      <td>19:35:00</td>\n",
       "      <td>NaN</td>\n",
       "      <td>NaN</td>\n",
       "      <td>COMPLETED</td>\n",
       "      <td>NaN</td>\n",
       "      <td>NaN</td>\n",
       "      <td>...</td>\n",
       "      <td>NaN</td>\n",
       "      <td>25-44</td>\n",
       "      <td>BLACK</td>\n",
       "      <td>M</td>\n",
       "      <td>1023942</td>\n",
       "      <td>264415</td>\n",
       "      <td>40.892351</td>\n",
       "      <td>-73.856440</td>\n",
       "      <td>(40.89235092600006, -73.85643985999997)</td>\n",
       "      <td>POINT (-73.85643985999997 40.89235092600006)</td>\n",
       "    </tr>\n",
       "    <tr>\n",
       "      <th>4</th>\n",
       "      <td>446379952</td>\n",
       "      <td>47</td>\n",
       "      <td>NaN</td>\n",
       "      <td>09/03/2021</td>\n",
       "      <td>20:35:00</td>\n",
       "      <td>NaN</td>\n",
       "      <td>NaN</td>\n",
       "      <td>COMPLETED</td>\n",
       "      <td>NaN</td>\n",
       "      <td>NaN</td>\n",
       "      <td>...</td>\n",
       "      <td>NaN</td>\n",
       "      <td>25-44</td>\n",
       "      <td>BLACK</td>\n",
       "      <td>M</td>\n",
       "      <td>1027062</td>\n",
       "      <td>262581</td>\n",
       "      <td>40.887303</td>\n",
       "      <td>-73.845167</td>\n",
       "      <td>(40.88730259600004, -73.84516691)</td>\n",
       "      <td>POINT (-73.84516691 40.88730259600004)</td>\n",
       "    </tr>\n",
       "  </tbody>\n",
       "</table>\n",
       "<p>5 rows × 36 columns</p>\n",
       "</div>"
      ],
      "text/plain": [
       "   CMPLNT_NUM  ADDR_PCT_CD BORO_NM CMPLNT_FR_DT CMPLNT_FR_TM CMPLNT_TO_DT  \\\n",
       "0   854455675           48     NaN   09/29/2021     12:50:00          NaN   \n",
       "1   474078722           79     NaN   09/16/2021     05:15:00          NaN   \n",
       "2   843162354           25     NaN   09/15/2021     01:13:00          NaN   \n",
       "3   275119984           47     NaN   09/07/2021     19:35:00          NaN   \n",
       "4   446379952           47     NaN   09/03/2021     20:35:00          NaN   \n",
       "\n",
       "  CMPLNT_TO_TM CRM_ATPT_CPTD_CD HADEVELOPT  HOUSING_PSA  ...  \\\n",
       "0          NaN        COMPLETED        NaN          NaN  ...   \n",
       "1          NaN        COMPLETED        NaN          NaN  ...   \n",
       "2          NaN        COMPLETED        NaN          NaN  ...   \n",
       "3          NaN        COMPLETED        NaN          NaN  ...   \n",
       "4          NaN        COMPLETED        NaN          NaN  ...   \n",
       "\n",
       "   TRANSIT_DISTRICT VIC_AGE_GROUP        VIC_RACE VIC_SEX X_COORD_CD  \\\n",
       "0               NaN           <18  BLACK HISPANIC       M    1016838   \n",
       "1               NaN         25-44           BLACK       M    1001523   \n",
       "2               NaN         25-44           BLACK       M    1001508   \n",
       "3               NaN         25-44           BLACK       M    1023942   \n",
       "4               NaN         25-44           BLACK       M    1027062   \n",
       "\n",
       "  Y_COORD_CD   Latitude  Longitude                                   Lat_Lon  \\\n",
       "0     250252  40.853507 -73.882203   (40.85350696200004, -73.88220309599996)   \n",
       "1     192971  40.696329 -73.937711  (40.696328949000076, -73.93771061299998)   \n",
       "2     232696  40.805364 -73.937663   (40.80536404400005, -73.93766276299993)   \n",
       "3     264415  40.892351 -73.856440   (40.89235092600006, -73.85643985999997)   \n",
       "4     262581  40.887303 -73.845167         (40.88730259600004, -73.84516691)   \n",
       "\n",
       "                        New Georeferenced Column  \n",
       "0   POINT (-73.88220309599996 40.85350696200004)  \n",
       "1  POINT (-73.93771061299998 40.696328949000076)  \n",
       "2   POINT (-73.93766276299993 40.80536404400005)  \n",
       "3   POINT (-73.85643985999997 40.89235092600006)  \n",
       "4         POINT (-73.84516691 40.88730259600004)  \n",
       "\n",
       "[5 rows x 36 columns]"
      ]
     },
     "execution_count": 10,
     "metadata": {},
     "output_type": "execute_result"
    }
   ],
   "source": [
    "# Import our dependencies\n",
    "import pandas as pd\n",
    "import numpy as np\n",
    "from sklearn.model_selection import train_test_split\n",
    "from sklearn.preprocessing import StandardScaler,OneHotEncoder\n",
    "import tensorflow as tf\n",
    "from sklearn.metrics import balanced_accuracy_score\n",
    "from sklearn.metrics import confusion_matrix\n",
    "from imblearn.metrics import classification_report_imbalanced\n",
    "\n",
    "#  Import and read the data \n",
    "violent_crime_df = pd.read_csv(\"Resources/NYPD_Complaint_Data.csv\")\n",
    "violent_crime_df.head()"
   ]
  },
  {
   "cell_type": "code",
   "execution_count": 11,
   "id": "9d5cf5c8",
   "metadata": {},
   "outputs": [],
   "source": [
    "# Drop Unneccessary Columns\n",
    "violent_crime_df = violent_crime_df.drop(columns=[\"HADEVELOPT\",\"HOUSING_PSA\",\"PARKS_NM\",\"STATION_NAME\",\n",
    "                                                      \"TRANSIT_DISTRICT\",\"X_COORD_CD\",\"Y_COORD_CD\",\n",
    "                                                     \"Lat_Lon\",\"New Georeferenced Column\"])\n",
    "\n",
    "# Drop Rows with Null Values\n",
    "violent_crime_df = violent_crime_df.dropna()"
   ]
  },
  {
   "cell_type": "code",
   "execution_count": 12,
   "id": "eb7c3f4b",
   "metadata": {},
   "outputs": [
    {
     "data": {
      "text/plain": [
       "(201853, 27)"
      ]
     },
     "execution_count": 12,
     "metadata": {},
     "output_type": "execute_result"
    }
   ],
   "source": [
    "#Explore the Shape of the Data\n",
    "violent_crime_df.shape"
   ]
  },
  {
   "cell_type": "code",
   "execution_count": 13,
   "id": "a774ffc3",
   "metadata": {
    "scrolled": false
   },
   "outputs": [
    {
     "data": {
      "text/plain": [
       "HARRASSMENT 2                           41901\n",
       "PETIT LARCENY                           39230\n",
       "ASSAULT 3 & RELATED OFFENSES            24811\n",
       "CRIMINAL MISCHIEF & RELATED OF          15857\n",
       "GRAND LARCENY                           15245\n",
       "FELONY ASSAULT                          11679\n",
       "OFF. AGNST PUB ORD SENSBLTY &            9996\n",
       "MISCELLANEOUS PENAL LAW                  7937\n",
       "ROBBERY                                  6358\n",
       "BURGLARY                                 6156\n",
       "SEX CRIMES                               3349\n",
       "GRAND LARCENY OF MOTOR VEHICLE           3227\n",
       "OFFENSES AGAINST PUBLIC ADMINI           2966\n",
       "DANGEROUS DRUGS                          2425\n",
       "THEFT-FRAUD                              1308\n",
       "DANGEROUS WEAPONS                        1171\n",
       "CRIMINAL TRESPASS                        1122\n",
       "RAPE                                      899\n",
       "FRAUDS                                    880\n",
       "VEHICLE AND TRAFFIC LAWS                  787\n",
       "UNAUTHORIZED USE OF A VEHICLE             667\n",
       "FORGERY                                   666\n",
       "INTOXICATED & IMPAIRED DRIVING            440\n",
       "ADMINISTRATIVE CODE                       440\n",
       "OFFENSES INVOLVING FRAUD                  386\n",
       "OFFENSES AGAINST THE PERSON               380\n",
       "OTHER OFFENSES RELATED TO THEF            312\n",
       "POSSESSION OF STOLEN PROPERTY             312\n",
       "ARSON                                     205\n",
       "OTHER STATE LAWS (NON PENAL LA            169\n",
       "NYS LAWS-UNCLASSIFIED FELONY              154\n",
       "KIDNAPPING & RELATED OFFENSES              74\n",
       "GAMBLING                                   58\n",
       "PETIT LARCENY OF MOTOR VEHICLE             56\n",
       "BURGLAR'S TOOLS                            54\n",
       "AGRICULTURE & MRKTS LAW-UNCLASSIFIED       44\n",
       "ALCOHOLIC BEVERAGE CONTROL LAW             30\n",
       "PROSTITUTION & RELATED OFFENSES            14\n",
       "FRAUDULENT ACCOSTING                       12\n",
       "ENDAN WELFARE INCOMP                       11\n",
       "ANTICIPATORY OFFENSES                      10\n",
       "CHILD ABANDONMENT/NON SUPPORT               8\n",
       "OFFENSES AGAINST PUBLIC SAFETY              8\n",
       "FELONY SEX CRIMES                           7\n",
       "DISORDERLY CONDUCT                          5\n",
       "HOMICIDE-NEGLIGENT,UNCLASSIFIE              4\n",
       "KIDNAPPING                                  4\n",
       "NYS LAWS-UNCLASSIFIED VIOLATION             3\n",
       "NEW YORK CITY HEALTH CODE                   3\n",
       "JOSTLING                                    3\n",
       "ESCAPE 3                                    3\n",
       "OTHER STATE LAWS                            2\n",
       "OFFENSES RELATED TO CHILDREN                2\n",
       "DISRUPTION OF A RELIGIOUS SERV              1\n",
       "LOITERING/GAMBLING (CARDS, DIC              1\n",
       "INTOXICATED/IMPAIRED DRIVING                1\n",
       "Name: OFNS_DESC, dtype: int64"
      ]
     },
     "execution_count": 13,
     "metadata": {},
     "output_type": "execute_result"
    }
   ],
   "source": [
    "# See Value Counts for Offense Descriptions\n",
    "violent_crime_df[\"OFNS_DESC\"].value_counts()"
   ]
  },
  {
   "cell_type": "code",
   "execution_count": 14,
   "id": "55bf58e7",
   "metadata": {},
   "outputs": [],
   "source": [
    "# Group violent crimes into list\n",
    "violent_crimes = [\"ASSAULT 3 & RELATED OFFENSES\",\"FELONY ASSAULT\",\"ROBBERY\",\n",
    " \"RAPE\",\"HOMICIDE-NEGLIGENT,UNCLASSIFIE\",\n",
    " \"HOMICIDE-NEGLIGENT,UNCLASSIFIE\"]"
   ]
  },
  {
   "cell_type": "code",
   "execution_count": 15,
   "id": "b8ba6ea3",
   "metadata": {},
   "outputs": [
    {
     "data": {
      "text/plain": [
       "50        0\n",
       "51        0\n",
       "53        0\n",
       "56        0\n",
       "57        0\n",
       "         ..\n",
       "323808    0\n",
       "323810    0\n",
       "323811    0\n",
       "323814    0\n",
       "323816    0\n",
       "Name: VIOLENT_CRIME, Length: 201853, dtype: int64"
      ]
     },
     "execution_count": 15,
     "metadata": {},
     "output_type": "execute_result"
    }
   ],
   "source": [
    "# Add violent crime column in dataframe\n",
    "violent_crime_df[\"VIOLENT_CRIME\"] = 0\n",
    "violent_crime_df[\"VIOLENT_CRIME\"]"
   ]
  },
  {
   "cell_type": "code",
   "execution_count": 16,
   "id": "9f8fc96f",
   "metadata": {},
   "outputs": [
    {
     "data": {
      "text/html": [
       "<div>\n",
       "<style scoped>\n",
       "    .dataframe tbody tr th:only-of-type {\n",
       "        vertical-align: middle;\n",
       "    }\n",
       "\n",
       "    .dataframe tbody tr th {\n",
       "        vertical-align: top;\n",
       "    }\n",
       "\n",
       "    .dataframe thead th {\n",
       "        text-align: right;\n",
       "    }\n",
       "</style>\n",
       "<table border=\"1\" class=\"dataframe\">\n",
       "  <thead>\n",
       "    <tr style=\"text-align: right;\">\n",
       "      <th></th>\n",
       "      <th>OFNS_DESC</th>\n",
       "      <th>VIOLENT_CRIME</th>\n",
       "    </tr>\n",
       "  </thead>\n",
       "  <tbody>\n",
       "    <tr>\n",
       "      <th>50</th>\n",
       "      <td>OFFENSES AGAINST PUBLIC ADMINI</td>\n",
       "      <td>0</td>\n",
       "    </tr>\n",
       "    <tr>\n",
       "      <th>51</th>\n",
       "      <td>ASSAULT 3 &amp; RELATED OFFENSES</td>\n",
       "      <td>1</td>\n",
       "    </tr>\n",
       "    <tr>\n",
       "      <th>53</th>\n",
       "      <td>FELONY ASSAULT</td>\n",
       "      <td>1</td>\n",
       "    </tr>\n",
       "    <tr>\n",
       "      <th>56</th>\n",
       "      <td>ASSAULT 3 &amp; RELATED OFFENSES</td>\n",
       "      <td>1</td>\n",
       "    </tr>\n",
       "    <tr>\n",
       "      <th>57</th>\n",
       "      <td>ROBBERY</td>\n",
       "      <td>1</td>\n",
       "    </tr>\n",
       "    <tr>\n",
       "      <th>59</th>\n",
       "      <td>PETIT LARCENY</td>\n",
       "      <td>0</td>\n",
       "    </tr>\n",
       "    <tr>\n",
       "      <th>60</th>\n",
       "      <td>SEX CRIMES</td>\n",
       "      <td>0</td>\n",
       "    </tr>\n",
       "    <tr>\n",
       "      <th>62</th>\n",
       "      <td>GRAND LARCENY</td>\n",
       "      <td>0</td>\n",
       "    </tr>\n",
       "    <tr>\n",
       "      <th>63</th>\n",
       "      <td>HARRASSMENT 2</td>\n",
       "      <td>0</td>\n",
       "    </tr>\n",
       "    <tr>\n",
       "      <th>64</th>\n",
       "      <td>CRIMINAL MISCHIEF &amp; RELATED OF</td>\n",
       "      <td>0</td>\n",
       "    </tr>\n",
       "  </tbody>\n",
       "</table>\n",
       "</div>"
      ],
      "text/plain": [
       "                         OFNS_DESC  VIOLENT_CRIME\n",
       "50  OFFENSES AGAINST PUBLIC ADMINI              0\n",
       "51    ASSAULT 3 & RELATED OFFENSES              1\n",
       "53                  FELONY ASSAULT              1\n",
       "56    ASSAULT 3 & RELATED OFFENSES              1\n",
       "57                         ROBBERY              1\n",
       "59                   PETIT LARCENY              0\n",
       "60                      SEX CRIMES              0\n",
       "62                   GRAND LARCENY              0\n",
       "63                   HARRASSMENT 2              0\n",
       "64  CRIMINAL MISCHIEF & RELATED OF              0"
      ]
     },
     "execution_count": 16,
     "metadata": {},
     "output_type": "execute_result"
    }
   ],
   "source": [
    "# Add 1 if violent or keep 0 for non-violent crime\n",
    "violent_crime_df.loc[(violent_crime_df.OFNS_DESC == \"ASSAULT 3 & RELATED OFFENSES\") |\n",
    "                     (violent_crime_df.OFNS_DESC == \"FELONY ASSAULT\") |\n",
    "                     (violent_crime_df.OFNS_DESC == \"ROBBERY\") |\n",
    "                     (violent_crime_df.OFNS_DESC == \"RAPE\") |\n",
    "                     (violent_crime_df.OFNS_DESC == \"HOMICIDE-NEGLIGENT,UNCLASSIFIE\") |\n",
    "                     (violent_crime_df.OFNS_DESC == \"HOMICIDE-NEGLIGENT,UNCLASSIFIE\"), \"VIOLENT_CRIME\"] = 1\n",
    "violent_crime_df[[\"OFNS_DESC\", \"VIOLENT_CRIME\"]].head(10)"
   ]
  },
  {
   "cell_type": "markdown",
   "id": "a6511e5b",
   "metadata": {},
   "source": [
    "# Clean victim and suspect age ranges"
   ]
  },
  {
   "cell_type": "code",
   "execution_count": 17,
   "id": "d0a4f7b3",
   "metadata": {},
   "outputs": [],
   "source": [
    "# Remove Age Values for victims That don't make sense\n",
    "violent_crime_df = violent_crime_df.loc[((violent_crime_df['VIC_AGE_GROUP'] == \"<18\") |\n",
    "                                            (violent_crime_df['VIC_AGE_GROUP'] == \"18-24\") |\n",
    "                                            (violent_crime_df['VIC_AGE_GROUP'] == \"25-44\") |\n",
    "                                            (violent_crime_df['VIC_AGE_GROUP'] == \"45-64\") |\n",
    "                                           (violent_crime_df['VIC_AGE_GROUP'] == \"65+\"))]"
   ]
  },
  {
   "cell_type": "code",
   "execution_count": 20,
   "id": "7cb5dcab",
   "metadata": {},
   "outputs": [],
   "source": [
    "# Remove Age Values for Suspects That don't make sense\n",
    "violent_crime_df = violent_crime_df.loc[((violent_crime_df['SUSP_AGE_GROUP'] == \"<18\") |\n",
    "                                            (violent_crime_df['SUSP_AGE_GROUP'] == \"18-24\") |\n",
    "                                            (violent_crime_df['SUSP_AGE_GROUP'] == \"25-44\") |\n",
    "                                            (violent_crime_df['SUSP_AGE_GROUP'] == \"45-64\") |\n",
    "                                           (violent_crime_df['SUSP_AGE_GROUP'] == \"65+\"))]"
   ]
  },
  {
   "cell_type": "code",
   "execution_count": 18,
   "id": "1088daac",
   "metadata": {},
   "outputs": [
    {
     "data": {
      "text/plain": [
       "25-44    77405\n",
       "45-64    40460\n",
       "18-24    19001\n",
       "65+       9390\n",
       "<18       6196\n",
       "Name: VIC_AGE_GROUP, dtype: int64"
      ]
     },
     "execution_count": 18,
     "metadata": {},
     "output_type": "execute_result"
    }
   ],
   "source": [
    "violent_crime_df['VIC_AGE_GROUP'].value_counts()"
   ]
  },
  {
   "cell_type": "code",
   "execution_count": 21,
   "id": "a0f4d744",
   "metadata": {},
   "outputs": [
    {
     "data": {
      "text/plain": [
       "25-44    48701\n",
       "45-64    16964\n",
       "18-24    12941\n",
       "<18       2722\n",
       "65+       2188\n",
       "Name: SUSP_AGE_GROUP, dtype: int64"
      ]
     },
     "execution_count": 21,
     "metadata": {},
     "output_type": "execute_result"
    }
   ],
   "source": [
    "violent_crime_df['SUSP_AGE_GROUP'].value_counts()"
   ]
  },
  {
   "cell_type": "markdown",
   "id": "b89f7fd1",
   "metadata": {},
   "source": [
    "# Export to CSV"
   ]
  },
  {
   "cell_type": "code",
   "execution_count": null,
   "id": "d151c16e",
   "metadata": {},
   "outputs": [],
   "source": [
    "# Write new dataframe to CSV\n",
    "violent_crime_df.to_csv(\"./Resources/violent_crime_v2.csv\")"
   ]
  }
 ],
 "metadata": {
  "kernelspec": {
   "display_name": "mlenv",
   "language": "python",
   "name": "mlenv"
  },
  "language_info": {
   "codemirror_mode": {
    "name": "ipython",
    "version": 3
   },
   "file_extension": ".py",
   "mimetype": "text/x-python",
   "name": "python",
   "nbconvert_exporter": "python",
   "pygments_lexer": "ipython3",
   "version": "3.7.11"
  }
 },
 "nbformat": 4,
 "nbformat_minor": 5
}
